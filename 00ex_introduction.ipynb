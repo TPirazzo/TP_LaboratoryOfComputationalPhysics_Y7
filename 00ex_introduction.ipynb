{
 "cells": [
  {
   "cell_type": "markdown",
   "metadata": {},
   "source": [
    "1. The MickeyMouse problem\n",
    "\n",
    "a) Write a program that prints the numbers from 1 to 100. But for multiples of 3 print `Mickey` instead of the corresponding number and for the multiples of 5 print `Mouse`. For numbers which are multiples of both three and five print `MickeyMouse`\n",
    "\n",
    "b) Put the result in a tuple and substitute `Mickey` with `Donald` and `Mouse` with `Duck`"
   ]
  },
  {
   "cell_type": "code",
   "execution_count": 1,
   "metadata": {},
   "outputs": [
    {
     "name": "stdout",
     "output_type": "stream",
     "text": [
      "1\n",
      "2\n",
      "Mickey\n",
      "4\n",
      "Mouse\n",
      "Mickey\n",
      "7\n",
      "8\n",
      "Mickey\n",
      "Mouse\n",
      "11\n",
      "Mickey\n",
      "13\n",
      "14\n",
      "Mickey Mouse\n",
      "16\n",
      "17\n",
      "Mickey\n",
      "19\n",
      "Mouse\n",
      "Mickey\n",
      "22\n",
      "23\n",
      "Mickey\n",
      "Mouse\n",
      "26\n",
      "Mickey\n",
      "28\n",
      "29\n",
      "Mickey Mouse\n",
      "31\n",
      "32\n",
      "Mickey\n",
      "34\n",
      "Mouse\n",
      "Mickey\n",
      "37\n",
      "38\n",
      "Mickey\n",
      "Mouse\n",
      "41\n",
      "Mickey\n",
      "43\n",
      "44\n",
      "Mickey Mouse\n",
      "46\n",
      "47\n",
      "Mickey\n",
      "49\n",
      "Mouse\n",
      "Mickey\n",
      "52\n",
      "53\n",
      "Mickey\n",
      "Mouse\n",
      "56\n",
      "Mickey\n",
      "58\n",
      "59\n",
      "Mickey Mouse\n",
      "61\n",
      "62\n",
      "Mickey\n",
      "64\n",
      "Mouse\n",
      "Mickey\n",
      "67\n",
      "68\n",
      "Mickey\n",
      "Mouse\n",
      "71\n",
      "Mickey\n",
      "73\n",
      "74\n",
      "Mickey Mouse\n",
      "76\n",
      "77\n",
      "Mickey\n",
      "79\n",
      "Mouse\n",
      "Mickey\n",
      "82\n",
      "83\n",
      "Mickey\n",
      "Mouse\n",
      "86\n",
      "Mickey\n",
      "88\n",
      "89\n",
      "Mickey Mouse\n",
      "91\n",
      "92\n",
      "Mickey\n",
      "94\n",
      "Mouse\n",
      "Mickey\n",
      "97\n",
      "98\n",
      "Mickey\n",
      "Mouse\n"
     ]
    }
   ],
   "source": [
    "#a)Pay attention to indentation and to the order of the statement. Once one of them is TRUE the followin ones are not evaluated\n",
    "for i in range (1,101):\n",
    "    if ((i%3 == 0) & (i%5 == 0)):\n",
    "        print(\"Mickey Mouse\")\n",
    "    elif (i%3 == 0):\n",
    "        print(\"Mickey\")\n",
    "    elif (i%5 == 0):\n",
    "        print(\"Mouse\")\n",
    "    else:\n",
    "        print(i)\n"
   ]
  },
  {
   "cell_type": "markdown",
   "metadata": {},
   "source": [
    "2\\. The swap function\n",
    "\n",
    "Write a function that swap the values of two input variables x and y (whatever the type). Try to do that also without a temporary variable"
   ]
  },
  {
   "cell_type": "code",
   "execution_count": 2,
   "metadata": {},
   "outputs": [
    {
     "name": "stdin",
     "output_type": "stream",
     "text": [
      "Value of the first variable:  2\n",
      "Value of the second variable:  3\n"
     ]
    },
    {
     "name": "stdout",
     "output_type": "stream",
     "text": [
      "3 2\n"
     ]
    }
   ],
   "source": [
    "def swap(x,y):\n",
    "    x,y = y,x\n",
    "    print(x,y)\n",
    "    \n",
    "\n",
    "a = input(\"Value of the first variable: \")\n",
    "b = input(\"Value of the second variable: \")\n",
    "\n",
    "swap(a,b)\n",
    "\n"
   ]
  },
  {
   "cell_type": "markdown",
   "metadata": {},
   "source": [
    "3\\. Computing the distance\n",
    "\n",
    "Write a function that calculates and returns the euclidean distance between two points *u* and *v*, where *u* and *v* are both 2-tuples *(x,y)*. For example, if *u=(3,0)* and *v=(0,4)*, the function should return 5"
   ]
  },
  {
   "cell_type": "code",
   "execution_count": 3,
   "metadata": {},
   "outputs": [
    {
     "data": {
      "text/plain": [
       "5.0"
      ]
     },
     "execution_count": 3,
     "metadata": {},
     "output_type": "execute_result"
    }
   ],
   "source": [
    "#We need to import the math library to get acces to the sqrt built-in function\n",
    "import math\n",
    "\n",
    "#define the requested function\n",
    "def eu_dist(u,v):\n",
    "    d = math.sqrt( (u[0]-v[0])**2 + (u[1]-v[1])**2 )\n",
    "    return d\n",
    "\n",
    "#A cuople of points for the test\n",
    "a = [3,0]\n",
    "b = [0,4]\n",
    "\n",
    "#call the function\n",
    "eu_dist(a,b)"
   ]
  },
  {
   "cell_type": "markdown",
   "metadata": {},
   "source": [
    "4\\. Counting letters\n",
    "\n",
    "Write a program to calculate the number of times each character occurs in a given string *s*. Ignore differneces in capitalization"
   ]
  },
  {
   "cell_type": "code",
   "execution_count": 4,
   "metadata": {},
   "outputs": [
    {
     "name": "stdout",
     "output_type": "stream",
     "text": [
      "['w', 2, 'r', 17, 'i', 14, 't', 19, 'e', 22, 'a', 7, 'p', 8, 'o', 13, 'g', 1, 'm', 12, 'h', 9, 'n', 10, 's', 9, 'u', 9, 'b', 5, 'f', 10, '1', 2, '0', 2, '.', 2, 'l', 6, 'c', 3, 'k', 2, 'y', 2, 'd', 3, 'v', 2]\n"
     ]
    }
   ],
   "source": [
    "s=\"Write a program that prints the numbers from 1 to 100. \\\n",
    "But for multiples of three print Mickey instead of the number and for the multiples of five print Mouse. \\\n",
    "For numbers which are multiples of both three and five print MickeyMouse\"\n",
    "\n",
    "#remove from the string the capital letters and the white spaces\n",
    "s = s.lower()\n",
    "s = s.replace( \" \", \"\" )\n",
    "\n",
    "#create a list to memorize the characters ane their number of recurrences\n",
    "s_char = []\n",
    "\n",
    "#the function first check if the character is just in the result list and if it's not it count it and add it to the s_char list\n",
    "for i in range(0, len(s)):\n",
    "    if s[i] not in s_char: \n",
    "        s_char.append(s[i])\n",
    "        s_char.append(s.count(s[i]))\n",
    "    else:\n",
    "        continue\n",
    "\n",
    "print(s_char)"
   ]
  },
  {
   "cell_type": "markdown",
   "metadata": {},
   "source": [
    "5\\. Isolating the unique\n",
    "\n",
    "Write a function that determines and count the unique numbers in the list *l*"
   ]
  },
  {
   "cell_type": "code",
   "execution_count": 5,
   "metadata": {},
   "outputs": [
    {
     "name": "stdout",
     "output_type": "stream",
     "text": [
      "[36, 3, 45, 3, 58, 1, 74, 1, 96, 1, 64, 1, 31, 2, 10, 1, 24, 1, 19, 1, 33, 1, 86, 1, 99, 1, 18, 1, 63, 2, 70, 3, 85, 3, 47, 1, 56, 2, 42, 2, 84, 4, 88, 1, 55, 1, 20, 3, 54, 1, 8, 1, 51, 3, 79, 1, 81, 1, 57, 1, 37, 1, 91, 3, 66, 2, 9, 1, 89, 2, 50, 2, 95, 1, 90, 1, 98, 1, 39, 1, 16, 1, 82, 1, 92, 1, 41, 1, 30, 1, 34, 2, 94, 1, 5, 1, 72, 1, 87, 1, 75, 1, 53, 1]\n"
     ]
    }
   ],
   "source": [
    "#something similar to the previous one\n",
    "\n",
    "l = [36, 45, 58, 3, 74, 96, 64, 45, 31, 10, 24, 19, 33, 86, 99, 18, 63, 70, 85,\n",
    " 85, 63, 47, 56, 42, 70, 84, 88, 55, 20, 54, 8, 56, 51, 79, 81, 57, 37, 91,\n",
    " 1, 84, 84, 36, 66, 9, 89, 50, 42, 91, 50, 95, 90, 98, 39, 16, 82, 31, 92, 41,\n",
    " 45, 30, 66, 70, 34, 85, 94, 5, 3, 36, 72, 91, 84, 34, 87, 75, 53, 51, 20, 89, 51, 20]\n",
    "\n",
    "r = []\n",
    "\n",
    "for i in range (0, len(l)):\n",
    "    if l[i] not in r: \n",
    "        r.append(l[i])\n",
    "        r.append(l.count(l[i]))\n",
    "    else:\n",
    "        continue\n",
    "\n",
    "print(r)\n"
   ]
  },
  {
   "cell_type": "markdown",
   "metadata": {},
   "source": [
    "6\\. Combination of functions\n",
    "\n",
    "Write two functions - one that returns the square of a number, and one that returns the cube. Now write a third function that returns the number raised to the 6th power using the two previous functions."
   ]
  },
  {
   "cell_type": "code",
   "execution_count": 6,
   "metadata": {},
   "outputs": [
    {
     "name": "stdin",
     "output_type": "stream",
     "text": [
      "Insert the value to calculate the square, the cube and the 6th power:  3\n"
     ]
    },
    {
     "name": "stdout",
     "output_type": "stream",
     "text": [
      "9.0\n",
      "27.0\n",
      "729.0\n"
     ]
    }
   ],
   "source": [
    "def square(x,y = 2):\n",
    "    s = x**y\n",
    "    return s\n",
    "\n",
    "def cube(x,y = 3):\n",
    "    c = x**y\n",
    "    return c\n",
    "\n",
    "def sixth_power(x):\n",
    "    p = x*square(x)*cube(x)\n",
    "    return p\n",
    "\n",
    "v = float(input(\"Insert the value to calculate the square, the cube and the 6th power: \"))\n",
    "\n",
    "print(square(v))\n",
    "print(cube(v))\n",
    "print(sixth_power(v))"
   ]
  },
  {
   "cell_type": "markdown",
   "metadata": {},
   "source": [
    "7\\. Cubes\n",
    "\n",
    "Create a list of the cubes of x for x in *[0, 10]* using:\n",
    "\n",
    "a) a for loop\n",
    "\n",
    "b) a list comprehension"
   ]
  },
  {
   "cell_type": "code",
   "execution_count": 32,
   "metadata": {},
   "outputs": [
    {
     "name": "stdout",
     "output_type": "stream",
     "text": [
      "[0, 1, 8, 27, 64, 125, 216, 343, 512, 729]\n",
      "[0, 1, 8, 27, 64, 125, 216, 343, 512, 729]\n"
     ]
    }
   ],
   "source": [
    "#a)\n",
    "c = []\n",
    "\n",
    "for i in range (0, 10):\n",
    "    c.append(cube(i))\n",
    "\n",
    "comp = [cube(i) for i in range (0, 10)]\n",
    "\n",
    "print(c)\n",
    "print(comp)\n"
   ]
  },
  {
   "cell_type": "markdown",
   "metadata": {},
   "source": [
    "8\\. Nested list comprehension\n",
    "\n",
    "A Pythagorean triple is an integer solution to the Pythagorean theorem $a^2+b^2=c^2$. The first Pythagorean triple is (3,4,5). Find and put in a tuple all unique Pythagorean triples for the positive integers a, b and c less than 100."
   ]
  },
  {
   "cell_type": "code",
   "execution_count": 9,
   "metadata": {},
   "outputs": [
    {
     "name": "stdout",
     "output_type": "stream",
     "text": [
      "[(3, 4, 5.0), (4, 3, 5.0), (5, 12, 13.0), (6, 8, 10.0), (7, 24, 25.0), (8, 6, 10.0), (8, 15, 17.0), (9, 12, 15.0), (9, 40, 41.0), (10, 24, 26.0), (11, 60, 61.0), (12, 5, 13.0), (12, 9, 15.0), (12, 16, 20.0), (12, 35, 37.0), (13, 84, 85.0), (14, 48, 50.0), (15, 8, 17.0), (15, 20, 25.0), (15, 36, 39.0), (16, 12, 20.0), (16, 30, 34.0), (16, 63, 65.0), (18, 24, 30.0), (18, 80, 82.0), (20, 15, 25.0), (20, 21, 29.0), (20, 48, 52.0), (20, 99, 101.0), (21, 20, 29.0), (21, 28, 35.0), (21, 72, 75.0), (24, 7, 25.0), (24, 10, 26.0), (24, 18, 30.0), (24, 32, 40.0), (24, 45, 51.0), (24, 70, 74.0), (25, 60, 65.0), (27, 36, 45.0), (28, 21, 35.0), (28, 45, 53.0), (28, 96, 100.0), (30, 16, 34.0), (30, 40, 50.0), (30, 72, 78.0), (32, 24, 40.0), (32, 60, 68.0), (33, 44, 55.0), (33, 56, 65.0), (35, 12, 37.0), (35, 84, 91.0), (36, 15, 39.0), (36, 27, 45.0), (36, 48, 60.0), (36, 77, 85.0), (39, 52, 65.0), (39, 80, 89.0), (40, 9, 41.0), (40, 30, 50.0), (40, 42, 58.0), (40, 75, 85.0), (40, 96, 104.0), (42, 40, 58.0), (42, 56, 70.0), (44, 33, 55.0), (45, 24, 51.0), (45, 28, 53.0), (45, 60, 75.0), (48, 14, 50.0), (48, 20, 52.0), (48, 36, 60.0), (48, 55, 73.0), (48, 64, 80.0), (48, 90, 102.0), (51, 68, 85.0), (52, 39, 65.0), (54, 72, 90.0), (55, 48, 73.0), (56, 33, 65.0), (56, 42, 70.0), (56, 90, 106.0), (57, 76, 95.0), (60, 11, 61.0), (60, 25, 65.0), (60, 32, 68.0), (60, 45, 75.0), (60, 63, 87.0), (60, 80, 100.0), (60, 91, 109.0), (63, 16, 65.0), (63, 60, 87.0), (63, 84, 105.0), (64, 48, 80.0), (65, 72, 97.0), (66, 88, 110.0), (68, 51, 85.0), (69, 92, 115.0), (70, 24, 74.0), (72, 21, 75.0), (72, 30, 78.0), (72, 54, 90.0), (72, 65, 97.0), (72, 96, 120.0), (75, 40, 85.0), (76, 57, 95.0), (77, 36, 85.0), (80, 18, 82.0), (80, 39, 89.0), (80, 60, 100.0), (80, 84, 116.0), (84, 13, 85.0), (84, 35, 91.0), (84, 63, 105.0), (84, 80, 116.0), (88, 66, 110.0), (90, 48, 102.0), (90, 56, 106.0), (91, 60, 109.0), (92, 69, 115.0), (96, 28, 100.0), (96, 40, 104.0), (96, 72, 120.0), (99, 20, 101.0)]\n",
      "124\n"
     ]
    }
   ],
   "source": [
    "def pit(x,y):\n",
    "    return (x**2+y**2)**(1/2)\n",
    "\n",
    "I = range(1,100,1)\n",
    "q = [(a,b,(a**2 + b**2)**(1/2)) for a in I for b in I if (a**2 + b**2)**(1/2) % 1 == 0 if (a**2 + b**2)**(1/2)]\n",
    "\n",
    "print(q)\n",
    "print(len(q))"
   ]
  },
  {
   "cell_type": "markdown",
   "metadata": {},
   "source": [
    "9\\. Normalization\n",
    "\n",
    "Write a function that takes a tuple of numbers and returns it with the entries normalized to one"
   ]
  },
  {
   "cell_type": "code",
   "execution_count": 8,
   "metadata": {},
   "outputs": [
    {
     "data": {
      "text/plain": [
       "(0.022222222222222223,\n",
       " 0.06666666666666667,\n",
       " 0.08888888888888889,\n",
       " 1.0,\n",
       " 0.03333333333333333,\n",
       " 0.6222222222222222,\n",
       " 0.8222222222222222)"
      ]
     },
     "execution_count": 8,
     "metadata": {},
     "output_type": "execute_result"
    }
   ],
   "source": [
    "\n",
    "def normalization(t):\n",
    "    \n",
    "    t_max = max(t)\n",
    "    t_list = list(t)\n",
    "    \n",
    "    for i in range(0, len(t_list)):\n",
    "        t_list[i] = t_list[i]/t_max\n",
    "            \n",
    "    return tuple(t_list)\n",
    "\n",
    "#example\n",
    "a = (2,6,8,90,3,56,74)\n",
    "normalization(a)\n"
   ]
  }
 ],
 "metadata": {
  "kernelspec": {
   "display_name": "Python 3 (ipykernel)",
   "language": "python",
   "name": "python3"
  },
  "language_info": {
   "codemirror_mode": {
    "name": "ipython",
    "version": 3
   },
   "file_extension": ".py",
   "mimetype": "text/x-python",
   "name": "python",
   "nbconvert_exporter": "python",
   "pygments_lexer": "ipython3",
   "version": "3.12.7"
  }
 },
 "nbformat": 4,
 "nbformat_minor": 4
}

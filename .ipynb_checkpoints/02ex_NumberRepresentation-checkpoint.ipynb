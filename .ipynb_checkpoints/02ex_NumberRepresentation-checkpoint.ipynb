{
 "cells": [
  {
   "cell_type": "markdown",
   "metadata": {},
   "source": [
    "1\\. Write a function that converts number representation, bin<->dec<->hex. (Clearly using the corresponding python built-in functions is not fair..)"
   ]
  },
  {
   "cell_type": "code",
   "execution_count": 24,
   "metadata": {},
   "outputs": [
    {
     "name": "stdout",
     "output_type": "stream",
     "text": [
      "4\n",
      "10011\n",
      "1C\n",
      "2D\n",
      "2700\n",
      "10110010\n"
     ]
    }
   ],
   "source": [
    "# Function to convert binary to decimal \n",
    "def bin_to_dec(bin_str):\n",
    "    bin_str = bin_str[::-1] #invert the order of the digits\n",
    "    dec = 0\n",
    "    for i in range(len(bin_str)):\n",
    "        dec += int(bin_str[i])*(2**i)\n",
    "    return dec\n",
    "\n",
    "# Function to convert decimal to binary\n",
    "def dec_to_bin(dec):\n",
    "    bin_str = ''\n",
    "    while dec > 0:\n",
    "        bin_str = str(dec%2)+bin_str\n",
    "        dec //= 2 # Update dec_value with integer division by 2\n",
    "    return bin_str\n",
    "\n",
    "# Function to convert decimal to exadecimal\n",
    "def dec_to_hex(dec):\n",
    "    hex_v = ''\n",
    "    hex_digits = '0123456789ABCDEF'\n",
    "    while dec > 0:\n",
    "        hex_v = hex_digits[dec%16]+hex_v\n",
    "        dec //= 16\n",
    "    return hex_v\n",
    "\n",
    "# Function to convert binary to hexadecimal \n",
    "def bin_to_hex(bin_str):\n",
    "    # bin -> dec\n",
    "    dec = bin_to_dec(bin_str)\n",
    "    # dec -> hex\n",
    "    hex_v = dec_to_hex(dec)\n",
    "    return hex_v\n",
    "\n",
    "# Function to convert hexadecimanl to decimal\n",
    "def hex_to_dec(hex_str):\n",
    "    dec = 0\n",
    "    hex_digits = '0123456789ABCDEF'\n",
    "    for i in range(len(hex_str)):\n",
    "        dec += hex_digits.index(hex_str[i].upper())*(16**i)\n",
    "    return dec\n",
    "\n",
    "# Function to convert hexadecimal to binary \n",
    "def hex_to_bin(hex_str): \n",
    "    dec_value = hex_to_dec(hex_str) \n",
    "    return dec_to_bin(dec_value) \n",
    "\n",
    "print(bin_to_dec(\"100\"))    \n",
    "print(dec_to_bin(19))\n",
    "print(dec_to_hex(28))\n",
    "print(bin_to_hex(\"101101\"))\n",
    "print(hex_to_dec(\"C8A\"))\n",
    "print(hex_to_bin(\"2B\"))"
   ]
  },
  {
   "cell_type": "markdown",
   "metadata": {},
   "source": [
    "2\\. Write a function that converts a 32 bit word into a single precision floating point (i.e. interprets the various bits as sign, mantissa and exponent)"
   ]
  },
  {
   "cell_type": "code",
   "execution_count": 57,
   "metadata": {},
   "outputs": [
    {
     "name": "stdout",
     "output_type": "stream",
     "text": [
      "The sign of the number is:  -1\n",
      "The exponent is:  7\n",
      "The mantissa is:  1.75\n",
      "1\n",
      "['1', '1', '1', '0', '0', '0', '0', '0']\n",
      "['1', '1', '0', '0', '0', '0', '0', '0', '0', '0', '0', '0', '0', '0', '0', '0', '0', '0', '0', '0', '0', '0', '0']\n"
     ]
    },
    {
     "data": {
      "text/plain": [
       "-1.316553672920962e-36"
      ]
     },
     "execution_count": 57,
     "metadata": {},
     "output_type": "execute_result"
    }
   ],
   "source": [
    "def single_float(bit_word, bias = 127):\n",
    "   \n",
    "    # sign part\n",
    "    sign_bit = bit_word[0]\n",
    "    sign = (-1)**(int(sign_bit)) # Identify the sign as the first bit\n",
    "    # exponent part\n",
    "    exponent_bits = []\n",
    "    for i in range(1,9):\n",
    "        exponent_bits.append(bit_word[i])\n",
    "    # mantissa\n",
    "    mantissa_bits = []\n",
    "    for i in range(9,32):\n",
    "        mantissa_bits.append(bit_word[i])\n",
    "\n",
    "    # Calculate the decimal representation \n",
    "    exponent = 0\n",
    "    exponent_bits = exponent_bits[::-1]\n",
    "    for i in range(len(exponent_bits)): # Calculate the exponent\n",
    "        exponent += int(exponent_bits[i])*(2**i)\n",
    "\n",
    "    f = 0\n",
    "    for i in range(len(mantissa_bits)):\n",
    "        f += int(mantissa_bits[i])*(2**(-(i+1)))\n",
    "    mantissa = 1.0 + f\n",
    "    \n",
    "    print(\"The sign of the number is: \", sign)\n",
    "    print(\"The exponent is: \", exponent)\n",
    "    print(\"The mantissa is: \", mantissa)\n",
    "    print(sign_bit)\n",
    "    print(exponent_bits)\n",
    "    print(mantissa_bits)\n",
    "    n = sign*mantissa*(2**(exponent-bias))\n",
    "    return n\n",
    "\n",
    "single_float(\"10000011111000000000000000000000\")"
   ]
  },
  {
   "cell_type": "markdown",
   "metadata": {},
   "source": [
    "3\\. Write a program to determine the underflow and overflow limits (within a factor of 2) for python on your computer. \n",
    "\n",
    "**Tips**: define two variables inizialized to 1 and halve/double them enough time to exceed the under/over-flow limits  "
   ]
  },
  {
   "cell_type": "code",
   "execution_count": 58,
   "metadata": {},
   "outputs": [
    {
     "ename": "KeyboardInterrupt",
     "evalue": "",
     "output_type": "error",
     "traceback": [
      "\u001b[0;31m---------------------------------------------------------------------------\u001b[0m",
      "\u001b[0;31mKeyboardInterrupt\u001b[0m                         Traceback (most recent call last)",
      "Cell \u001b[0;32mIn[58], line 18\u001b[0m\n\u001b[1;32m     15\u001b[0m             \u001b[38;5;28;01mbreak\u001b[39;00m \n\u001b[1;32m     16\u001b[0m     \u001b[38;5;28;01mreturn\u001b[39;00m value \n\u001b[0;32m---> 18\u001b[0m overflow_limit \u001b[38;5;241m=\u001b[39m find_overflow_limit() \n\u001b[1;32m     19\u001b[0m underflow_limit \u001b[38;5;241m=\u001b[39m find_underflow_limit() \n\u001b[1;32m     20\u001b[0m \u001b[38;5;28mprint\u001b[39m(\u001b[38;5;124m\"\u001b[39m\u001b[38;5;124mOverflow limit: \u001b[39m\u001b[38;5;124m\"\u001b[39m, overflow_limit) \n",
      "Cell \u001b[0;32mIn[58], line 3\u001b[0m, in \u001b[0;36mfind_overflow_limit\u001b[0;34m()\u001b[0m\n\u001b[1;32m      1\u001b[0m \u001b[38;5;28;01mdef\u001b[39;00m \u001b[38;5;21mfind_overflow_limit\u001b[39m(): \n\u001b[1;32m      2\u001b[0m     value \u001b[38;5;241m=\u001b[39m \u001b[38;5;241m1.0\u001b[39m \n\u001b[0;32m----> 3\u001b[0m     \u001b[38;5;28;01mwhile\u001b[39;00m \u001b[38;5;28;01mTrue\u001b[39;00m: \n\u001b[1;32m      4\u001b[0m         \u001b[38;5;28;01mtry\u001b[39;00m:\n\u001b[1;32m      5\u001b[0m             value \u001b[38;5;241m*\u001b[39m\u001b[38;5;241m=\u001b[39m \u001b[38;5;241m2\u001b[39m \n",
      "\u001b[0;31mKeyboardInterrupt\u001b[0m: "
     ]
    }
   ],
   "source": [
    "def find_overflow_limit(): \n",
    "    value = 1.0 \n",
    "    while True: \n",
    "        try:\n",
    "            value *= 2 \n",
    "        except OverflowError: \n",
    "            break \n",
    "    return value \n",
    "                \n",
    "def find_underflow_limit(): \n",
    "    value = 1.0 \n",
    "    while value > 0: \n",
    "        value /= 2 \n",
    "        if value == 0: \n",
    "            break \n",
    "    return value \n",
    "    \n",
    "overflow_limit = find_overflow_limit() \n",
    "underflow_limit = find_underflow_limit() \n",
    "print(\"Overflow limit: \", overflow_limit) \n",
    "print(\"Underflow limit: \", underflow_limit) "
   ]
  },
  {
   "cell_type": "markdown",
   "metadata": {},
   "source": [
    "4\\. Write a program to determine the machine precision\n",
    "\n",
    "**Tips**: define a new variable by adding a smaller and smaller value (proceeding similarly to prob. 2) to an original variable and check the point where the two are the same "
   ]
  },
  {
   "cell_type": "code",
   "execution_count": 60,
   "metadata": {},
   "outputs": [
    {
     "name": "stdout",
     "output_type": "stream",
     "text": [
      "Number of iterations:  53\n",
      "Smallest increment that is distinguishable:  1.1102230246251565e-16\n"
     ]
    }
   ],
   "source": [
    "original_value = 1.0\n",
    "delta = 1.0\n",
    "iteration = 0\n",
    "\n",
    "while original_value + delta != original_value:\n",
    "    delta /= 2\n",
    "    iteration += 1\n",
    "\n",
    "print(\"Number of iterations: \", iteration) \n",
    "print(\"Smallest increment that is distinguishable: \", delta) \n"
   ]
  },
  {
   "cell_type": "markdown",
   "metadata": {},
   "source": [
    "5\\. Write a function that takes in input three parameters $a$, $b$ and $c$ and prints out the two solutions to the quadratic equation $ax^2+bx+c=0$ using the standard formula:\n",
    "$$\n",
    "x=\\frac{-b\\pm\\sqrt{b^2-4ac}}{2a}\n",
    "$$\n",
    "\n",
    "(a) use the program to compute the solution for $a=0.001$, $b=1000$ and $c=0.001$\n",
    "\n",
    "(b) re-express the standard solution formula by multiplying top and bottom by $-b\\mp\\sqrt{b^2-4ac}$ and again find the solution for $a=0.001$, $b=1000$ and $c=0.001$. How does it compare with what previously obtained? Why?\n",
    "\n",
    "(c) write a function that compute the roots of a quadratic equation accurately in all cases"
   ]
  },
  {
   "cell_type": "code",
   "execution_count": 68,
   "metadata": {},
   "outputs": [
    {
     "name": "stdout",
     "output_type": "stream",
     "text": [
      "(-9.999894245993346e-07, -999999.999999)\n",
      "(-9.999894245993346e-07, -999999.9999989999)\n"
     ]
    }
   ],
   "source": [
    "# Function to compute the roots\n",
    "import math \n",
    "def sol(a,b,c):\n",
    "    r_1 = (-b+math.sqrt((b**2)-(4*a*c)))/(2*a)\n",
    "    r_2 = (-b-math.sqrt((b**2)-(4*a*c)))/(2*a)\n",
    "    return r_1,r_2\n",
    "\n",
    "# Compute the solution for a=0.001, b=1000 and c=0.001\n",
    "print(sol(0.001,1000,0.001))\n",
    "\n",
    "# New formula\n",
    "def new_sol(a,b,c):\n",
    "    Delta_plus = -b+math.sqrt((b**2)-(4*a*c))\n",
    "    Delta_minus = -b-math.sqrt((b**2)-(4*a*c))\n",
    "    r_1 = ((-b+math.sqrt((b**2)-(4*a*c)))/(2*a))*(Delta_minus)/(Delta_minus)\n",
    "    r_2 = (-b-math.sqrt((b**2)-(4*a*c)))/(2*a)*(Delta_plus)/(Delta_plus)\n",
    "    return r_1,r_2\n",
    "\n",
    "# Compute the solution for a=0.001, b=1000 and c=0.001 with the new function. We shouldn't observe any difference\n",
    "print(new_sol(0.001,1000,0.001))"
   ]
  },
  {
   "cell_type": "markdown",
   "metadata": {},
   "source": [
    "6\\. Write a program that implements the function $f(x)=x(x−1)$\n",
    "\n",
    "(a) Calculate the derivative of the function at the point $x = 1$ using the derivative definition:\n",
    "\n",
    "$$\n",
    "\\frac{{\\rm d}f}{{\\rm d}x} = \\lim_{\\delta\\to0} \\frac{f(x+\\delta)-f(x)}{\\delta}\n",
    "$$\n",
    "\n",
    "with $\\delta = 10^{−2}$. Calculate the true value of the same derivative analytically and compare with the answer your program gives. The two will not agree perfectly. Why not?\n",
    "\n",
    "(b) Repeat the calculation for $\\delta = 10^{−4}, 10^{−6}, 10^{−8}, 10^{−10}, 10^{−12}$ and $10^{−14}$. How does the accuracy scales with $\\delta$?"
   ]
  },
  {
   "cell_type": "markdown",
   "metadata": {},
   "source": [
    "7\\. Consider the integral of the semicircle of radius 1:\n",
    "$$\n",
    "I=\\int_{-1}^{1} \\sqrt(1-x^2) {\\rm d}x\n",
    "$$\n",
    "which it's known to be $I=\\frac{\\pi}{2}=1.57079632679...$.\n",
    "Alternatively we can use the Riemann definition of the integral:\n",
    "$$\n",
    "I=\\lim_{N\\to\\infty} \\sum_{k=1}^{N} h y_k \n",
    "$$\n",
    "\n",
    "with $h=2/N$ the width of each of the $N$ slices the domain is divided into and where\n",
    "$y_k$ is the value of the function at the $k-$th slice.\n",
    "\n",
    "(a) Write a programe to compute the integral with $N=100$. How does the result compares to the true value?\n",
    "\n",
    "(b) How much can $N$ be increased if the computation needs to be run in less than a second? What is the gain in running it for 1 minute? \n"
   ]
  },
  {
   "cell_type": "code",
   "execution_count": null,
   "metadata": {},
   "outputs": [],
   "source": []
  }
 ],
 "metadata": {
  "kernelspec": {
   "display_name": "Python 3 (ipykernel)",
   "language": "python",
   "name": "python3"
  },
  "language_info": {
   "codemirror_mode": {
    "name": "ipython",
    "version": 3
   },
   "file_extension": ".py",
   "mimetype": "text/x-python",
   "name": "python",
   "nbconvert_exporter": "python",
   "pygments_lexer": "ipython3",
   "version": "3.12.7"
  }
 },
 "nbformat": 4,
 "nbformat_minor": 4
}

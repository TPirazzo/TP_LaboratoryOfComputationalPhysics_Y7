{
 "cells": [
  {
   "cell_type": "markdown",
   "metadata": {},
   "source": [
    "1\\. Write a function that converts number representation, bin<->dec<->hex. (Clearly using the corresponding python built-in functions is not fair..)"
   ]
  },
  {
   "cell_type": "code",
   "execution_count": 24,
   "metadata": {},
   "outputs": [
    {
     "name": "stdout",
     "output_type": "stream",
     "text": [
      "4\n",
      "10011\n",
      "1C\n",
      "2D\n",
      "2700\n",
      "10110010\n"
     ]
    }
   ],
   "source": [
    "# Function to convert binary to decimal \n",
    "def bin_to_dec(bin_str):\n",
    "    bin_str = bin_str[::-1] #invert the order of the digits\n",
    "    dec = 0\n",
    "    for i in range(len(bin_str)):\n",
    "        dec += int(bin_str[i])*(2**i)\n",
    "    return dec\n",
    "\n",
    "# Function to convert decimal to binary\n",
    "def dec_to_bin(dec):\n",
    "    bin_str = ''\n",
    "    while dec > 0:\n",
    "        bin_str = str(dec%2)+bin_str\n",
    "        dec //= 2 # Update dec_value with integer division by 2\n",
    "    return bin_str\n",
    "\n",
    "# Function to convert decimal to exadecimal\n",
    "def dec_to_hex(dec):\n",
    "    hex_v = ''\n",
    "    hex_digits = '0123456789ABCDEF'\n",
    "    while dec > 0:\n",
    "        hex_v = hex_digits[dec%16]+hex_v\n",
    "        dec //= 16\n",
    "    return hex_v\n",
    "\n",
    "# Function to convert binary to hexadecimal \n",
    "def bin_to_hex(bin_str):\n",
    "    # bin -> dec\n",
    "    dec = bin_to_dec(bin_str)\n",
    "    # dec -> hex\n",
    "    hex_v = dec_to_hex(dec)\n",
    "    return hex_v\n",
    "\n",
    "# Function to convert hexadecimanl to decimal\n",
    "def hex_to_dec(hex_str):\n",
    "    dec = 0\n",
    "    hex_digits = '0123456789ABCDEF'\n",
    "    for i in range(len(hex_str)):\n",
    "        dec += hex_digits.index(hex_str[i].upper())*(16**i)\n",
    "    return dec\n",
    "\n",
    "# Function to convert hexadecimal to binary \n",
    "def hex_to_bin(hex_str): \n",
    "    dec_value = hex_to_dec(hex_str) \n",
    "    return dec_to_bin(dec_value) \n",
    "\n",
    "print(bin_to_dec(\"100\"))    \n",
    "print(dec_to_bin(19))\n",
    "print(dec_to_hex(28))\n",
    "print(bin_to_hex(\"101101\"))\n",
    "print(hex_to_dec(\"C8A\"))\n",
    "print(hex_to_bin(\"2B\"))"
   ]
  },
  {
   "cell_type": "markdown",
   "metadata": {},
   "source": [
    "2\\. Write a function that converts a 32 bit word into a single precision floating point (i.e. interprets the various bits as sign, mantissa and exponent)"
   ]
  },
  {
   "cell_type": "code",
   "execution_count": null,
   "metadata": {},
   "outputs": [],
   "source": []
  },
  {
   "cell_type": "markdown",
   "metadata": {},
   "source": [
    "3\\. Write a program to determine the underflow and overflow limits (within a factor of 2) for python on your computer. \n",
    "\n",
    "**Tips**: define two variables inizialized to 1 and halve/double them enough time to exceed the under/over-flow limits  "
   ]
  },
  {
   "cell_type": "markdown",
   "metadata": {},
   "source": [
    "4\\. Write a program to determine the machine precision\n",
    "\n",
    "**Tips**: define a new variable by adding a smaller and smaller value (proceeding similarly to prob. 2) to an original variable and check the point where the two are the same "
   ]
  },
  {
   "cell_type": "markdown",
   "metadata": {},
   "source": [
    "5\\. Write a function that takes in input three parameters $a$, $b$ and $c$ and prints out the two solutions to the quadratic equation $ax^2+bx+c=0$ using the standard formula:\n",
    "$$\n",
    "x=\\frac{-b\\pm\\sqrt{b^2-4ac}}{2a}\n",
    "$$\n",
    "\n",
    "(a) use the program to compute the solution for $a=0.001$, $b=1000$ and $c=0.001$\n",
    "\n",
    "(b) re-express the standard solution formula by multiplying top and bottom by $-b\\mp\\sqrt{b^2-4ac}$ and again find the solution for $a=0.001$, $b=1000$ and $c=0.001$. How does it compare with what previously obtained? Why?\n",
    "\n",
    "(c) write a function that compute the roots of a quadratic equation accurately in all cases"
   ]
  },
  {
   "cell_type": "markdown",
   "metadata": {},
   "source": [
    "6\\. Write a program that implements the function $f(x)=x(x−1)$\n",
    "\n",
    "(a) Calculate the derivative of the function at the point $x = 1$ using the derivative definition:\n",
    "\n",
    "$$\n",
    "\\frac{{\\rm d}f}{{\\rm d}x} = \\lim_{\\delta\\to0} \\frac{f(x+\\delta)-f(x)}{\\delta}\n",
    "$$\n",
    "\n",
    "with $\\delta = 10^{−2}$. Calculate the true value of the same derivative analytically and compare with the answer your program gives. The two will not agree perfectly. Why not?\n",
    "\n",
    "(b) Repeat the calculation for $\\delta = 10^{−4}, 10^{−6}, 10^{−8}, 10^{−10}, 10^{−12}$ and $10^{−14}$. How does the accuracy scales with $\\delta$?"
   ]
  },
  {
   "cell_type": "markdown",
   "metadata": {},
   "source": [
    "7\\. Consider the integral of the semicircle of radius 1:\n",
    "$$\n",
    "I=\\int_{-1}^{1} \\sqrt(1-x^2) {\\rm d}x\n",
    "$$\n",
    "which it's known to be $I=\\frac{\\pi}{2}=1.57079632679...$.\n",
    "Alternatively we can use the Riemann definition of the integral:\n",
    "$$\n",
    "I=\\lim_{N\\to\\infty} \\sum_{k=1}^{N} h y_k \n",
    "$$\n",
    "\n",
    "with $h=2/N$ the width of each of the $N$ slices the domain is divided into and where\n",
    "$y_k$ is the value of the function at the $k-$th slice.\n",
    "\n",
    "(a) Write a programe to compute the integral with $N=100$. How does the result compares to the true value?\n",
    "\n",
    "(b) How much can $N$ be increased if the computation needs to be run in less than a second? What is the gain in running it for 1 minute? \n"
   ]
  },
  {
   "cell_type": "code",
   "execution_count": null,
   "metadata": {},
   "outputs": [],
   "source": []
  }
 ],
 "metadata": {
  "kernelspec": {
   "display_name": "Python 3 (ipykernel)",
   "language": "python",
   "name": "python3"
  },
  "language_info": {
   "codemirror_mode": {
    "name": "ipython",
    "version": 3
   },
   "file_extension": ".py",
   "mimetype": "text/x-python",
   "name": "python",
   "nbconvert_exporter": "python",
   "pygments_lexer": "ipython3",
   "version": "3.12.7"
  }
 },
 "nbformat": 4,
 "nbformat_minor": 4
}

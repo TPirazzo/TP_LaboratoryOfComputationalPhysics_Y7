{
 "cells": [
  {
   "cell_type": "markdown",
   "metadata": {},
   "source": [
    "1\\. Write a function that converts number representation, bin<->dec<->hex. (Clearly using the corresponding python built-in functions is not fair..)"
   ]
  },
  {
   "cell_type": "code",
   "execution_count": 1,
   "metadata": {},
   "outputs": [
    {
     "name": "stdout",
     "output_type": "stream",
     "text": [
      "4\n",
      "10011\n",
      "1C\n",
      "2D\n",
      "2700\n",
      "10110010\n"
     ]
    }
   ],
   "source": [
    "# Function to convert binary to decimal \n",
    "def bin_to_dec(bin_str):\n",
    "    bin_str = bin_str[::-1] #invert the order of the digits\n",
    "    dec = 0\n",
    "    for i in range(len(bin_str)):\n",
    "        dec += int(bin_str[i])*(2**i)\n",
    "    return dec\n",
    "\n",
    "# Function to convert decimal to binary\n",
    "def dec_to_bin(dec):\n",
    "    bin_str = ''\n",
    "    while dec > 0:\n",
    "        bin_str = str(dec%2)+bin_str\n",
    "        dec //= 2 # Update dec_value with integer division by 2\n",
    "    return bin_str\n",
    "\n",
    "# Function to convert decimal to exadecimal\n",
    "def dec_to_hex(dec):\n",
    "    hex_v = ''\n",
    "    hex_digits = '0123456789ABCDEF'\n",
    "    while dec > 0:\n",
    "        hex_v = hex_digits[dec%16]+hex_v\n",
    "        dec //= 16\n",
    "    return hex_v\n",
    "\n",
    "# Function to convert binary to hexadecimal \n",
    "def bin_to_hex(bin_str):\n",
    "    # bin -> dec\n",
    "    dec = bin_to_dec(bin_str)\n",
    "    # dec -> hex\n",
    "    hex_v = dec_to_hex(dec)\n",
    "    return hex_v\n",
    "\n",
    "# Function to convert hexadecimanl to decimal\n",
    "def hex_to_dec(hex_str):\n",
    "    dec = 0\n",
    "    hex_digits = '0123456789ABCDEF'\n",
    "    for i in range(len(hex_str)):\n",
    "        dec += hex_digits.index(hex_str[i].upper())*(16**i)\n",
    "    return dec\n",
    "\n",
    "# Function to convert hexadecimal to binary \n",
    "def hex_to_bin(hex_str): \n",
    "    dec_value = hex_to_dec(hex_str) \n",
    "    return dec_to_bin(dec_value) \n",
    "\n",
    "print(bin_to_dec(\"100\"))    \n",
    "print(dec_to_bin(19))\n",
    "print(dec_to_hex(28))\n",
    "print(bin_to_hex(\"101101\"))\n",
    "print(hex_to_dec(\"C8A\"))\n",
    "print(hex_to_bin(\"2B\"))"
   ]
  },
  {
   "cell_type": "markdown",
   "metadata": {},
   "source": [
    "2\\. Write a function that converts a 32 bit word into a single precision floating point (i.e. interprets the various bits as sign, mantissa and exponent)"
   ]
  },
  {
   "cell_type": "code",
   "execution_count": 2,
   "metadata": {},
   "outputs": [
    {
     "name": "stdout",
     "output_type": "stream",
     "text": [
      "The sign of the number is:  -1\n",
      "The exponent is:  7\n",
      "The mantissa is:  1.75\n",
      "1\n",
      "['1', '1', '1', '0', '0', '0', '0', '0']\n",
      "['1', '1', '0', '0', '0', '0', '0', '0', '0', '0', '0', '0', '0', '0', '0', '0', '0', '0', '0', '0', '0', '0', '0']\n"
     ]
    },
    {
     "data": {
      "text/plain": [
       "-1.316553672920962e-36"
      ]
     },
     "execution_count": 2,
     "metadata": {},
     "output_type": "execute_result"
    }
   ],
   "source": [
    "def single_float(bit_word, bias = 127):\n",
    "   \n",
    "    # sign part\n",
    "    sign_bit = bit_word[0]\n",
    "    sign = (-1)**(int(sign_bit)) # Identify the sign as the first bit\n",
    "    # exponent part\n",
    "    exponent_bits = []\n",
    "    for i in range(1,9):\n",
    "        exponent_bits.append(bit_word[i])\n",
    "    # mantissa\n",
    "    mantissa_bits = []\n",
    "    for i in range(9,32):\n",
    "        mantissa_bits.append(bit_word[i])\n",
    "\n",
    "    # Calculate the decimal representation \n",
    "    exponent = 0\n",
    "    exponent_bits = exponent_bits[::-1]\n",
    "    for i in range(len(exponent_bits)): # Calculate the exponent\n",
    "        exponent += int(exponent_bits[i])*(2**i)\n",
    "\n",
    "    f = 0\n",
    "    for i in range(len(mantissa_bits)):\n",
    "        f += int(mantissa_bits[i])*(2**(-(i+1)))\n",
    "    mantissa = 1.0 + f\n",
    "    \n",
    "    print(\"The sign of the number is: \", sign)\n",
    "    print(\"The exponent is: \", exponent)\n",
    "    print(\"The mantissa is: \", mantissa)\n",
    "    print(sign_bit)\n",
    "    print(exponent_bits)\n",
    "    print(mantissa_bits)\n",
    "    n = sign*mantissa*(2**(exponent-bias))\n",
    "    return n\n",
    "\n",
    "single_float(\"10000011111000000000000000000000\")"
   ]
  },
  {
   "cell_type": "markdown",
   "metadata": {},
   "source": [
    "3\\. Write a program to determine the underflow and overflow limits (within a factor of 2) for python on your computer. \n",
    "\n",
    "**Tips**: define two variables inizialized to 1 and halve/double them enough time to exceed the under/over-flow limits  "
   ]
  },
  {
   "cell_type": "code",
   "execution_count": 5,
   "metadata": {},
   "outputs": [
    {
     "name": "stdout",
     "output_type": "stream",
     "text": [
      "Under flow limit:  5e-324\n",
      "Overflow limit:  8.98846567431158e+307\n"
     ]
    }
   ],
   "source": [
    "def find_overflow_limit(): \n",
    "    value = 1.0 \n",
    "    iteration = 0\n",
    "    while value != float(\"inf\"): \n",
    "            value *= 2.0 \n",
    "            iteration += 1     \n",
    "    return 2.0**(iteration-1)\n",
    "\n",
    "i=1\n",
    "underflow=[2,1]\n",
    "while(i>0):\n",
    "    if((underflow[i]-underflow[i-1])!=0):\n",
    "        underflow.append(0.5**i)\n",
    "        i+=1\n",
    "    else:\n",
    "        underflow_num=underflow[-3]\n",
    "        break\n",
    "        \n",
    "print(\"Under flow limit: \", underflow_num)\n",
    "print(\"Overflow limit: \", find_overflow_limit()) \n"
   ]
  },
  {
   "cell_type": "markdown",
   "metadata": {},
   "source": [
    "4\\. Write a program to determine the machine precision\n",
    "\n",
    "**Tips**: define a new variable by adding a smaller and smaller value (proceeding similarly to prob. 2) to an original variable and check the point where the two are the same "
   ]
  },
  {
   "cell_type": "code",
   "execution_count": 6,
   "metadata": {},
   "outputs": [
    {
     "name": "stdout",
     "output_type": "stream",
     "text": [
      "Number of iterations:  53\n",
      "Smallest increment that is distinguishable:  1.1102230246251565e-16\n"
     ]
    }
   ],
   "source": [
    "original_value = 1.0\n",
    "delta = 1.0\n",
    "iteration = 0\n",
    "\n",
    "while original_value + delta != original_value:\n",
    "    delta /= 2\n",
    "    iteration += 1\n",
    "\n",
    "print(\"Number of iterations: \", iteration) \n",
    "print(\"Smallest increment that is distinguishable: \", delta) \n"
   ]
  },
  {
   "cell_type": "markdown",
   "metadata": {},
   "source": [
    "5\\. Write a function that takes in input three parameters $a$, $b$ and $c$ and prints out the two solutions to the quadratic equation $ax^2+bx+c=0$ using the standard formula:\n",
    "$$\n",
    "x=\\frac{-b\\pm\\sqrt{b^2-4ac}}{2a}\n",
    "$$\n",
    "\n",
    "(a) use the program to compute the solution for $a=0.001$, $b=1000$ and $c=0.001$\n",
    "\n",
    "(b) re-express the standard solution formula by multiplying top and bottom by $-b\\mp\\sqrt{b^2-4ac}$ and again find the solution for $a=0.001$, $b=1000$ and $c=0.001$. How does it compare with what previously obtained? Why?\n",
    "\n",
    "(c) write a function that compute the roots of a quadratic equation accurately in all cases"
   ]
  },
  {
   "cell_type": "code",
   "execution_count": 11,
   "metadata": {},
   "outputs": [
    {
     "name": "stdout",
     "output_type": "stream",
     "text": [
      "Solutions using standard formula: (-9.999894245993346e-07, -999999.999999)\n",
      "Solutions using re-expressed formula: (-1.000000000001e-06, -1000010.5755125057)\n"
     ]
    }
   ],
   "source": [
    "import math \n",
    "def solve_quadratic_standard(a, b, c): \n",
    "    discriminant = b**2 - 4*a*c \n",
    "    root1 = (-b + math.sqrt(discriminant)) / (2*a) \n",
    "    root2 = (-b - math.sqrt(discriminant)) / (2*a) \n",
    "    return root1, root2 \n",
    "    \n",
    "# Parameters \n",
    "a = 0.001 \n",
    "b = 1000 \n",
    "c = 0.001 \n",
    "\n",
    "# Solve the equation \n",
    "roots = solve_quadratic_standard(a, b, c) \n",
    "print(\"Solutions using standard formula:\", roots) \n",
    "\n",
    "def solve_quadratic_reexpressed(a, b, c): \n",
    "    discriminant = b**2 - 4*a*c \n",
    "    root1 = (2*c) / (-b - math.sqrt(discriminant)) \n",
    "    root2 = (2*c) / (-b + math.sqrt(discriminant)) \n",
    "    return root1, root2 \n",
    "    \n",
    "# Solve the equation with re-expressed formula \n",
    "reexpressed_roots = solve_quadratic_reexpressed(a, b, c) \n",
    "print(\"Solutions using re-expressed formula:\", reexpressed_roots) "
   ]
  },
  {
   "cell_type": "markdown",
   "metadata": {},
   "source": [
    "6\\. Write a program that implements the function $f(x)=x(x−1)$\n",
    "\n",
    "(a) Calculate the derivative of the function at the point $x = 1$ using the derivative definition:\n",
    "\n",
    "$$\n",
    "\\frac{{\\rm d}f}{{\\rm d}x} = \\lim_{\\delta\\to0} \\frac{f(x+\\delta)-f(x)}{\\delta}\n",
    "$$\n",
    "\n",
    "with $\\delta = 10^{−2}$. Calculate the true value of the same derivative analytically and compare with the answer your program gives. The two will not agree perfectly. Why not?\n",
    "\n",
    "(b) Repeat the calculation for $\\delta = 10^{−4}, 10^{−6}, 10^{−8}, 10^{−10}, 10^{−12}$ and $10^{−14}$. How does the accuracy scales with $\\delta$?"
   ]
  },
  {
   "cell_type": "code",
   "execution_count": 34,
   "metadata": {},
   "outputs": [
    {
     "name": "stdout",
     "output_type": "stream",
     "text": [
      "Numerical evaluatioin of the derivative at x=1:  1.010000000000001\n",
      "Analitical evaluation of the derivative at x=1:  1.0\n",
      "[1.0000999999998899, 1.0000009999177333, 1.0000000039225287, 1.000000082840371, 1.0000889005833413, 0.9992007221626509]\n",
      "[9.999999988985486e-05, 9.99917733279787e-07, 3.922528746258536e-09, 8.284037100736441e-08, 8.890058334132256e-05, 0.0007992778373491216]\n"
     ]
    }
   ],
   "source": [
    "# function definition\n",
    "def f(x):\n",
    "    return x*(x-1)\n",
    "\n",
    "# Analitical derivative of f\n",
    "def f_prime(x):\n",
    "    return (2*x)-1\n",
    "    \n",
    "# Calculate the derivative at x=1 numerically\n",
    "a = 1.0\n",
    "delta = 0.01\n",
    "derivative = (f(a + delta)-f(a))/delta\n",
    "\n",
    "print(\"Numerical evaluatioin of the derivative at x=1: \", derivative)\n",
    "print(\"Analitical evaluation of the derivative at x=1: \", f_prime(a))\n",
    "\n",
    "# Repeat the calculation with different values of delta\n",
    "delta_values = [10**i for i in range(-4,-16,-2)]\n",
    "derivatives = [(f(a + delta)-f(a))/delta for delta in delta_values]\n",
    "print(derivatives)\n",
    "accuracy = [abs(d-1) for d in derivatives]\n",
    "print(accuracy)"
   ]
  },
  {
   "cell_type": "markdown",
   "metadata": {},
   "source": [
    "7\\. Consider the integral of the semicircle of radius 1:\n",
    "$$\n",
    "I=\\int_{-1}^{1} \\sqrt(1-x^2) {\\rm d}x\n",
    "$$\n",
    "which it's known to be $I=\\frac{\\pi}{2}=1.57079632679...$.\n",
    "Alternatively we can use the Riemann definition of the integral:\n",
    "$$\n",
    "I=\\lim_{N\\to\\infty} \\sum_{k=1}^{N} h y_k \n",
    "$$\n",
    "\n",
    "with $h=2/N$ the width of each of the $N$ slices the domain is divided into and where\n",
    "$y_k$ is the value of the function at the $k-$th slice.\n",
    "\n",
    "(a) Write a programe to compute the integral with $N=100$. How does the result compares to the true value?\n",
    "\n",
    "(b) How much can $N$ be increased if the computation needs to be run in less than a second? What is the gain in running it for 1 minute? \n"
   ]
  },
  {
   "cell_type": "code",
   "execution_count": 54,
   "metadata": {},
   "outputs": [
    {
     "name": "stdout",
     "output_type": "stream",
     "text": [
      "The area computed numerically is:  1.5691342555492498\n",
      "I/(pi/2):  0.9989418925819377\n",
      "Implemented area:  1.5707963266957687  N = 6553600 execution time:  1.8031282590000046\n"
     ]
    }
   ],
   "source": [
    "import numpy as np\n",
    "import math\n",
    "import time\n",
    "\n",
    "# Compute the sum to evaluate the integral\n",
    "N = 100\n",
    "h = 2/N\n",
    "x_k = [1-(n*h) for n in range(0,N+1)]       # Discretize the x variable\n",
    "a_k = [math.sqrt(1-(x)**2)*h for x in x_k]  # Compute the discretize areas\n",
    "I = sum(a_k)    # sum all the little areas\n",
    "print(\"The area computed numerically is: \",I)\n",
    "print(\"I/(pi/2): \", I/(math.pi/2.0))  #The approximation is pretty good! (99.9%)\n",
    "\n",
    "# achievable performance with a limit amount of execution time (1 second)\n",
    "# Rewrite the previous code in a functional way...\n",
    "def circle_area(s):\n",
    "    h = 2.0/s\n",
    "    x_k = [1-(n*h) for n in range(0,s+1)]       # Discretize the x variable\n",
    "    a_k = [math.sqrt(1-(x)**2)*h for x in x_k]  # Compute the discretize areas\n",
    "    I = sum(a_k)                                # sum all the little areas\n",
    "    return I\n",
    "\n",
    "s = 100\n",
    "\n",
    "while True:\n",
    "    t_i = time.perf_counter()\n",
    "    circle_area(s)\n",
    "    t_f = time.perf_counter()\n",
    "    delta_t = t_f-t_i\n",
    "    if delta_t < 1:\n",
    "        s *= 2\n",
    "    else:\n",
    "        imp_area = circle_area(s)\n",
    "        print(\"Implemented area: \",imp_area, \" N =\",s ,\"execution time: \", delta_t)\n",
    "        break\n",
    "            \n",
    "\n",
    "\n",
    "\n"
   ]
  }
 ],
 "metadata": {
  "kernelspec": {
   "display_name": "Python 3 (ipykernel)",
   "language": "python",
   "name": "python3"
  },
  "language_info": {
   "codemirror_mode": {
    "name": "ipython",
    "version": 3
   },
   "file_extension": ".py",
   "mimetype": "text/x-python",
   "name": "python",
   "nbconvert_exporter": "python",
   "pygments_lexer": "ipython3",
   "version": "3.12.7"
  }
 },
 "nbformat": 4,
 "nbformat_minor": 4
}

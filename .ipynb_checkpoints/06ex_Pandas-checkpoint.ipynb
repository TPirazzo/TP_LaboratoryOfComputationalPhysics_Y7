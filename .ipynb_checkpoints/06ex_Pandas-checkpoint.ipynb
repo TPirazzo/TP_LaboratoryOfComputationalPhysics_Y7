{
 "cells": [
  {
   "cell_type": "markdown",
   "metadata": {},
   "source": [
    "## Pandas analysis\n",
    "\n",
    "This exercise consists in analyzing a dataset containg timing information from a series of Time-to-Digital-Converters (TDC) implemented in a couple of FPGAs. Each measurement (i.e. each row of the input file) consists of a flag that specifies the type of message ('HEAD', which in this case is always 1), two addresses of the TDC providing the signal ('FPGA' and 'TDC_CHANNEL'), and the timing information ('ORBIT_CNT', 'BX_COUNTER', and 'TDC_MEAS'). Each TDC count corresponds to 25/30 ns, whereas a unit of BX_COUNTER corresponds to 25 ns, and the ORBIT_CNT is increased every 'x' BX_COUNTER. This allows to store the time in a similar way to hours, minutes and seconds."
   ]
  },
  {
   "cell_type": "code",
   "execution_count": 1,
   "metadata": {},
   "outputs": [
    {
     "name": "stdout",
     "output_type": "stream",
     "text": [
      "--2025-01-17 09:49:57--  https://www.dropbox.com/s/xvjzaxzz3ysphme/data_000637.txt\n",
      "Risoluzione di www.dropbox.com (www.dropbox.com)... 162.125.69.18, 2620:100:6025:18::a27d:4512\n",
      "Connessione a www.dropbox.com (www.dropbox.com)|162.125.69.18|:443... connesso.\n",
      "Richiesta HTTP inviata, in attesa di risposta... 302 Found\n",
      "Posizione: https://www.dropbox.com/scl/fi/pkkpoxlm7beasryexpdf8/data_000637.txt?rlkey=rkm2em1v57hewglzelmin21c9 [segue]\n",
      "--2025-01-17 09:49:58--  https://www.dropbox.com/scl/fi/pkkpoxlm7beasryexpdf8/data_000637.txt?rlkey=rkm2em1v57hewglzelmin21c9\n",
      "Riutilizzo della connessione esistente a www.dropbox.com:443.\n",
      "Richiesta HTTP inviata, in attesa di risposta... 302 Found\n",
      "Posizione: https://uc141311373d486a0c1ceb132674.dl.dropboxusercontent.com/cd/0/inline/CiWfgNIY4jHe7aTQp7tuxBq_2f0c3bL-O-2Aag7d5tnJiBwCbIY7Ica64IsLPkJWP2whlLUadqwWvkLjs15-yStox4GxUUOczrQpB4-h3LvtMysfTeUk5IKQNDFMgd05Y1o/file# [segue]\n",
      "--2025-01-17 09:49:58--  https://uc141311373d486a0c1ceb132674.dl.dropboxusercontent.com/cd/0/inline/CiWfgNIY4jHe7aTQp7tuxBq_2f0c3bL-O-2Aag7d5tnJiBwCbIY7Ica64IsLPkJWP2whlLUadqwWvkLjs15-yStox4GxUUOczrQpB4-h3LvtMysfTeUk5IKQNDFMgd05Y1o/file\n",
      "Risoluzione di uc141311373d486a0c1ceb132674.dl.dropboxusercontent.com (uc141311373d486a0c1ceb132674.dl.dropboxusercontent.com)... 162.125.69.15, 2620:100:6025:15::a27d:450f\n",
      "Connessione a uc141311373d486a0c1ceb132674.dl.dropboxusercontent.com (uc141311373d486a0c1ceb132674.dl.dropboxusercontent.com)|162.125.69.15|:443... connesso.\n",
      "Richiesta HTTP inviata, in attesa di risposta... 200 OK\n",
      "Lunghezza: 33179236 (32M) [text/plain]\n",
      "Salvataggio in: ‘/home/pira/data/data_000637.txt’\n",
      "\n",
      "data_000637.txt     100%[===================>]  31,64M  15,9MB/s    in 2,0s    \n",
      "\n",
      "2025-01-17 09:50:01 (15,9 MB/s) - ‘/home/pira/data/data_000637.txt’ salvato [33179236/33179236]\n",
      "\n"
     ]
    }
   ],
   "source": [
    "# If you didn't download it yet, please get the relevant file now!\n",
    "!wget https://www.dropbox.com/s/xvjzaxzz3ysphme/data_000637.txt -P ~/data/"
   ]
  },
  {
   "cell_type": "markdown",
   "metadata": {},
   "source": [
    "1\\. Create a Pandas DataFrame reading N rows of the 'data_000637.txt' dataset. Choose N to be smaller than or equal to the maximum number of rows and larger that 10k."
   ]
  },
  {
   "cell_type": "code",
   "execution_count": 1,
   "metadata": {},
   "outputs": [
    {
     "name": "stdout",
     "output_type": "stream",
     "text": [
      "The file has 1310721 entries\n"
     ]
    },
    {
     "data": {
      "text/html": [
       "<div>\n",
       "<style scoped>\n",
       "    .dataframe tbody tr th:only-of-type {\n",
       "        vertical-align: middle;\n",
       "    }\n",
       "\n",
       "    .dataframe tbody tr th {\n",
       "        vertical-align: top;\n",
       "    }\n",
       "\n",
       "    .dataframe thead th {\n",
       "        text-align: right;\n",
       "    }\n",
       "</style>\n",
       "<table border=\"1\" class=\"dataframe\">\n",
       "  <thead>\n",
       "    <tr style=\"text-align: right;\">\n",
       "      <th></th>\n",
       "      <th>HEAD</th>\n",
       "      <th>FPGA</th>\n",
       "      <th>TDC_CHANNEL</th>\n",
       "      <th>ORBIT_CNT</th>\n",
       "      <th>BX_COUNTER</th>\n",
       "      <th>TDC_MEAS</th>\n",
       "    </tr>\n",
       "  </thead>\n",
       "  <tbody>\n",
       "    <tr>\n",
       "      <th>count</th>\n",
       "      <td>15000.0</td>\n",
       "      <td>15000.000000</td>\n",
       "      <td>15000.000000</td>\n",
       "      <td>1.500000e+04</td>\n",
       "      <td>15000.000000</td>\n",
       "      <td>15000.000000</td>\n",
       "    </tr>\n",
       "    <tr>\n",
       "      <th>mean</th>\n",
       "      <td>1.0</td>\n",
       "      <td>0.302000</td>\n",
       "      <td>55.250333</td>\n",
       "      <td>3.869200e+09</td>\n",
       "      <td>1804.428533</td>\n",
       "      <td>13.396067</td>\n",
       "    </tr>\n",
       "    <tr>\n",
       "      <th>std</th>\n",
       "      <td>0.0</td>\n",
       "      <td>0.459141</td>\n",
       "      <td>39.093898</td>\n",
       "      <td>4.318600e+01</td>\n",
       "      <td>1062.270373</td>\n",
       "      <td>9.211141</td>\n",
       "    </tr>\n",
       "    <tr>\n",
       "      <th>min</th>\n",
       "      <td>1.0</td>\n",
       "      <td>0.000000</td>\n",
       "      <td>1.000000</td>\n",
       "      <td>3.869200e+09</td>\n",
       "      <td>0.000000</td>\n",
       "      <td>0.000000</td>\n",
       "    </tr>\n",
       "    <tr>\n",
       "      <th>25%</th>\n",
       "      <td>1.0</td>\n",
       "      <td>0.000000</td>\n",
       "      <td>24.000000</td>\n",
       "      <td>3.869200e+09</td>\n",
       "      <td>839.000000</td>\n",
       "      <td>5.000000</td>\n",
       "    </tr>\n",
       "    <tr>\n",
       "      <th>50%</th>\n",
       "      <td>1.0</td>\n",
       "      <td>0.000000</td>\n",
       "      <td>56.000000</td>\n",
       "      <td>3.869200e+09</td>\n",
       "      <td>1815.000000</td>\n",
       "      <td>13.000000</td>\n",
       "    </tr>\n",
       "    <tr>\n",
       "      <th>75%</th>\n",
       "      <td>1.0</td>\n",
       "      <td>1.000000</td>\n",
       "      <td>64.000000</td>\n",
       "      <td>3.869200e+09</td>\n",
       "      <td>2756.000000</td>\n",
       "      <td>21.000000</td>\n",
       "    </tr>\n",
       "    <tr>\n",
       "      <th>max</th>\n",
       "      <td>1.0</td>\n",
       "      <td>1.000000</td>\n",
       "      <td>139.000000</td>\n",
       "      <td>3.869200e+09</td>\n",
       "      <td>3563.000000</td>\n",
       "      <td>29.000000</td>\n",
       "    </tr>\n",
       "  </tbody>\n",
       "</table>\n",
       "</div>"
      ],
      "text/plain": [
       "          HEAD          FPGA   TDC_CHANNEL     ORBIT_CNT    BX_COUNTER  \\\n",
       "count  15000.0  15000.000000  15000.000000  1.500000e+04  15000.000000   \n",
       "mean       1.0      0.302000     55.250333  3.869200e+09   1804.428533   \n",
       "std        0.0      0.459141     39.093898  4.318600e+01   1062.270373   \n",
       "min        1.0      0.000000      1.000000  3.869200e+09      0.000000   \n",
       "25%        1.0      0.000000     24.000000  3.869200e+09    839.000000   \n",
       "50%        1.0      0.000000     56.000000  3.869200e+09   1815.000000   \n",
       "75%        1.0      1.000000     64.000000  3.869200e+09   2756.000000   \n",
       "max        1.0      1.000000    139.000000  3.869200e+09   3563.000000   \n",
       "\n",
       "           TDC_MEAS  \n",
       "count  15000.000000  \n",
       "mean      13.396067  \n",
       "std        9.211141  \n",
       "min        0.000000  \n",
       "25%        5.000000  \n",
       "50%       13.000000  \n",
       "75%       21.000000  \n",
       "max       29.000000  "
      ]
     },
     "execution_count": 1,
     "metadata": {},
     "output_type": "execute_result"
    }
   ],
   "source": [
    "import pandas as pd\n",
    "import numpy as np\n",
    "\n",
    "#find out how many rows there are in the file\n",
    "file_name = \"/home/pira/data/data_000637.txt\"\n",
    "\n",
    "with open(file_name, 'r') as file:\n",
    "    count = sum(1 for line in file)\n",
    "\n",
    "print(\"The file has \" + str(count) + \" entries\")\n",
    "\n",
    "#set the value of N -> entries to consider for the analysis\n",
    "N = 15000 \n",
    "\n",
    "#create the pandas dataframe\n",
    "df = pd.read_csv(file_name, nrows=N)\n",
    "df.describe()"
   ]
  },
  {
   "cell_type": "markdown",
   "metadata": {},
   "source": [
    "2\\. Find out the number of BX in a ORBIT (the value 'x')."
   ]
  },
  {
   "cell_type": "code",
   "execution_count": 2,
   "metadata": {},
   "outputs": [
    {
     "name": "stdout",
     "output_type": "stream",
     "text": [
      "3563\n"
     ]
    }
   ],
   "source": [
    "max_bx = max(df.BX_COUNTER)\n",
    "print(max_bx)"
   ]
  },
  {
   "cell_type": "markdown",
   "metadata": {},
   "source": [
    "3\\. Find out how much the data taking lasted. You can either make an estimate based on the fraction of the measurements (rows) you read, or perform this check precisely by reading out the whole dataset."
   ]
  },
  {
   "cell_type": "code",
   "execution_count": 5,
   "metadata": {},
   "outputs": [
    {
     "name": "stdout",
     "output_type": "stream",
     "text": [
      "13272175\n",
      "       HEAD  FPGA  TDC_CHANNEL   ORBIT_CNT  BX_COUNTER  TDC_MEAS          TIME\n",
      "0         1     0          123  3869200167        2374        26  3.446490e+14\n",
      "1         1     0          124  3869200167        2374        27  3.446490e+14\n",
      "2         1     0           63  3869200167        2553        28  3.446490e+14\n",
      "3         1     0           64  3869200167        2558        19  3.446490e+14\n",
      "4         1     0           64  3869200167        2760        25  3.446490e+14\n",
      "...     ...   ...          ...         ...         ...       ...           ...\n",
      "14995     1     1            4  3869200316        3399         9  3.446490e+14\n",
      "14996     1     1           17  3869200316        3400        15  3.446490e+14\n",
      "14997     1     1           10  3869200316        3530        16  3.446490e+14\n",
      "14998     1     1            8  3869200316        3533        18  3.446490e+14\n",
      "14999     1     0          139  3869200316        3539         0  3.446490e+14\n",
      "\n",
      "[15000 rows x 7 columns]\n"
     ]
    }
   ],
   "source": [
    "x = 3563 \n",
    "time = (max(df.ORBIT_CNT)-min(df.ORBIT_CNT))*x*25\n",
    "print(time)"
   ]
  },
  {
   "cell_type": "markdown",
   "metadata": {},
   "source": [
    "4\\. Create a new column with the absolute time in ns (as a combination of the other three columns with timing information)."
   ]
  },
  {
   "cell_type": "code",
   "execution_count": 6,
   "metadata": {},
   "outputs": [
    {
     "name": "stdout",
     "output_type": "stream",
     "text": [
      "0        3.446490e+14\n",
      "1        3.446490e+14\n",
      "2        3.446490e+14\n",
      "3        3.446490e+14\n",
      "4        3.446490e+14\n",
      "             ...     \n",
      "14995    3.446490e+14\n",
      "14996    3.446490e+14\n",
      "14997    3.446490e+14\n",
      "14998    3.446490e+14\n",
      "14999    3.446490e+14\n",
      "Name: TIME, Length: 15000, dtype: float64\n"
     ]
    }
   ],
   "source": [
    "df['TIME'] = (df['ORBIT_CNT']*x*25)+(df['BX_COUNTER']*25)+(df['TDC_MEAS']*(25/30))\n",
    "print(df['TIME'])"
   ]
  },
  {
   "cell_type": "markdown",
   "metadata": {},
   "source": [
    "5\\. Replace the values (all 1) of the HEAD column randomly with 0 or 1."
   ]
  },
  {
   "cell_type": "code",
   "execution_count": 25,
   "metadata": {},
   "outputs": [
    {
     "name": "stdout",
     "output_type": "stream",
     "text": [
      "0        0\n",
      "1        0\n",
      "2        0\n",
      "3        1\n",
      "4        1\n",
      "        ..\n",
      "14995    1\n",
      "14996    0\n",
      "14997    1\n",
      "14998    0\n",
      "14999    1\n",
      "Name: HEAD, Length: 15000, dtype: int64\n"
     ]
    }
   ],
   "source": [
    "df['HEAD'] = np.random.choice([0,1] , size=len(df))\n",
    "print(df['HEAD'])"
   ]
  },
  {
   "cell_type": "markdown",
   "metadata": {},
   "source": [
    "6\\. Create a new DataFrame that contains only the rows with HEAD=1."
   ]
  },
  {
   "cell_type": "code",
   "execution_count": 40,
   "metadata": {},
   "outputs": [
    {
     "name": "stdout",
     "output_type": "stream",
     "text": [
      "       HEAD  FPGA  TDC_CHANNEL   ORBIT_CNT  BX_COUNTER  TDC_MEAS          TIME\n",
      "3         1     0           64  3869200167        2558        19  3.446490e+14\n",
      "4         1     0           64  3869200167        2760        25  3.446490e+14\n",
      "5         1     0           63  3869200167        2762         4  3.446490e+14\n",
      "6         1     0           61  3869200167        2772        14  3.446490e+14\n",
      "7         1     0          139  3869200167        2776         0  3.446490e+14\n",
      "...     ...   ...          ...         ...         ...       ...           ...\n",
      "14990     1     1           18  3869200316        3387        22  3.446490e+14\n",
      "14993     1     1           16  3869200316        3396        14  3.446490e+14\n",
      "14995     1     1            4  3869200316        3399         9  3.446490e+14\n",
      "14997     1     1           10  3869200316        3530        16  3.446490e+14\n",
      "14999     1     0          139  3869200316        3539         0  3.446490e+14\n",
      "\n",
      "[7446 rows x 7 columns]\n"
     ]
    }
   ],
   "source": [
    "# Very complicated way !!!\n",
    "\"\"\"\n",
    "# Select the row index with HEAD == 1\n",
    "index = [i for i in range(len(df)) if df.iloc[i,0]==1]\n",
    "\n",
    "# define a new dataframe selecting only the lines with the rigth index and all the columns\n",
    "new_df = df.iloc[index,:]\n",
    "\"\"\"\n",
    "\n",
    "new_df = df[df['HEAD']==1]\n",
    "print(new_df)"
   ]
  },
  {
   "cell_type": "markdown",
   "metadata": {},
   "source": [
    "7\\. Make two occupancy plots (one for each FPGA), i.e. plot the number of counts per TDC channel"
   ]
  },
  {
   "cell_type": "code",
   "execution_count": 45,
   "metadata": {},
   "outputs": [
    {
     "data": {
      "text/plain": [
       "array([[<Axes: title={'center': 'TDC_CHANNEL'}>]], dtype=object)"
      ]
     },
     "execution_count": 45,
     "metadata": {},
     "output_type": "execute_result"
    },
    {
     "data": {
      "image/png": "[encoded data removed]",
      "text/plain": [
       "<Figure size 640x480 with 1 Axes>"
      ]
     },
     "metadata": {},
     "output_type": "display_data"
    },
    {
     "data": {
      "image/png": "[encoded data removed]",
      "text/plain": [
       "<Figure size 640x480 with 1 Axes>"
      ]
     },
     "metadata": {},
     "output_type": "display_data"
    }
   ],
   "source": [
    "# Filter the data creating two dataframe for the FPGAs\n",
    "FPGA_1 = df[df['FPGA']==1]\n",
    "FPGA_0 = df[df['FPGA']==0]\n",
    "\n",
    "# Plot the counts in histograms\n",
    "FPGA_0.hist('TDC_CHANNEL')\n",
    "FPGA_1.hist('TDC_CHANNEL')\n"
   ]
  },
  {
   "cell_type": "markdown",
   "metadata": {},
   "source": [
    "8\\. Use the groupby method to find out the noisy channels, i.e. the TDC channels with most counts (say the top 3)"
   ]
  },
  {
   "cell_type": "code",
   "execution_count": 72,
   "metadata": {},
   "outputs": [
    {
     "name": "stdout",
     "output_type": "stream",
     "text": [
      "TDC_CHANNEL\n",
      "139    879\n",
      "63     743\n",
      "64     735\n",
      "Name: FPGA, dtype: int64\n",
      "TDC_CHANNEL\n",
      "139    389\n",
      "2      363\n",
      "1      338\n",
      "Name: FPGA, dtype: int64\n",
      "TDC_CHANNEL\n",
      "139    879\n",
      "Name: FPGA, dtype: int64\n",
      "TDC_CHANNEL\n",
      "139    389\n",
      "Name: FPGA, dtype: int64\n"
     ]
    }
   ],
   "source": [
    "noise_FPGA_0 = FPGA_0.groupby('TDC_CHANNEL')['FPGA'].count()\n",
    "noise_FPGA_1 = FPGA_1.groupby('TDC_CHANNEL')['FPGA'].count()\n",
    "\n",
    "print(noise_FPGA_0.sort_values(ascending=False)[0:3])\n",
    "print(noise_FPGA_1.sort_values(ascending=False)[0:3])\n",
    "\n",
    "print(noise_FPGA_0[noise_FPGA_0 == max(noise_FPGA_0.values)])\n",
    "print(noise_FPGA_1[noise_FPGA_1 == max(noise_FPGA_1.values)])"
   ]
  },
  {
   "cell_type": "markdown",
   "metadata": {},
   "source": [
    "9\\. Count the number of unique orbits. Count the number of unique orbits with at least one measurement from TDC_CHANNEL=139"
   ]
  },
  {
   "cell_type": "code",
   "execution_count": null,
   "metadata": {},
   "outputs": [],
   "source": []
  }
 ],
 "metadata": {
  "kernelspec": {
   "display_name": "Python 3 (ipykernel)",
   "language": "python",
   "name": "python3"
  },
  "language_info": {
   "codemirror_mode": {
    "name": "ipython",
    "version": 3
   },
   "file_extension": ".py",
   "mimetype": "text/x-python",
   "name": "python",
   "nbconvert_exporter": "python",
   "pygments_lexer": "ipython3",
   "version": "3.12.7"
  }
 },
 "nbformat": 4,
 "nbformat_minor": 4
}

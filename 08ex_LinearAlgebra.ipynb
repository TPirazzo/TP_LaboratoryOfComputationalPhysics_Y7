{
 "cells": [
  {
   "cell_type": "markdown",
   "metadata": {},
   "source": [
    "1\\. **PCA on 3D dataset**\n",
    "\n",
    "* Generate a dataset with 3 features each with N entries (N being ${\\cal O}(1000)$). With $N(\\mu,\\sigma)$ the normali distribution with mean $\\mu$ and $\\sigma$  standard deviation, generate the 3 variables $x_{1,2,3}$ such that:\n",
    "    * $x_1$ is distributed as $N(0,1)$\n",
    "    * $x_2$ is distributed as $x_1+N(0,3)$\n",
    "    * $x_3$ is given by $2x_1+x_2$\n",
    "* Find the eigenvectors and eigenvalues of the covariance matrix of the dataset\n",
    "* Find the eigenvectors and eigenvalues using SVD. Check that the two procedures yield to same result\n",
    "* What percent of the total dataset's variability is explained by the principal components? Given how the dataset was constructed, do these make sense? Reduce the dimensionality of the system so that at least 99% of the total variability is retained.\n",
    "* Redefine the data in the basis yielded by the PCA procedure\n",
    "* Plot the data points in the original and the new coordiantes as a set of scatter plots. Your final figure should have 2 rows of 3 plots each, where the columns show the (0,1), (0,2) and (1,2) proejctions.\n"
   ]
  },
  {
   "cell_type": "code",
   "execution_count": 3,
   "metadata": {},
   "outputs": [
    {
     "name": "stdout",
     "output_type": "stream",
     "text": [
      "(3, 3)\n",
      "-2.0955894659884562e-14 \n",
      "\n",
      "eigenvalues:  [ 2.04725639e+01+0.j -1.70474000e-15+0.j  2.64835883e+00+0.j] \n",
      "\n",
      "eigenvectors:  \n",
      " [[-0.0776313   0.81649658 -0.57210726]\n",
      " [-0.62305413  0.40824829  0.6671858 ]\n",
      " [-0.77831673 -0.40824829 -0.47702872]]\n"
     ]
    }
   ],
   "source": [
    "#generate the 3D dataset\n",
    "import numpy as np\n",
    "import pandas as pd\n",
    " \n",
    "rng = np.random.default_rng(12341234) #random generator with seed\n",
    "\n",
    "mean_1 = 0           #parameters\n",
    "mean_2 = 0\n",
    "var_1 = 1\n",
    "var_2 = 3\n",
    "coeff_3 = [2, 1]\n",
    "\n",
    "x_1 = rng.normal(loc=mean_1, scale=var_1, size=1000)\n",
    "x_2 = rng.normal(loc=mean_2, scale=var_2, size=1000)\n",
    "x_3 = coeff_3[0]*x_1 + coeff_3[1]*x_2\n",
    "\n",
    "#create the pandas dataframe\n",
    "df = pd.DataFrame(\n",
    "    { 'x_1' : x_1-mean_1,\n",
    "      'x_2' : x_2-mean_2,\n",
    "      'x_3' : x_3-(coeff_3[0]*mean_1)-(coeff_3[1]*mean_2),\n",
    "    }\n",
    "    )\n",
    "\n",
    "#find the eigenvectors and the eigenvalues of the covariance matrix of the dataset\n",
    "from scipy import linalg as la\n",
    "\n",
    "CovMat = df.cov() #compute the covariance matrix\n",
    "print(np.shape(CovMat))\n",
    "print(la.det(CovMat), '\\n')\n",
    "l, a = la.eig(CovMat) #compute eigenvalues and eigenvectors\n",
    "print(\"eigenvalues: \", l, '\\n') \n",
    "print(\"eigenvectors: \", '\\n' , a)"
   ]
  },
  {
   "cell_type": "code",
   "execution_count": 2,
   "metadata": {},
   "outputs": [
    {
     "name": "stdout",
     "output_type": "stream",
     "text": [
      "[2.04725639e+01 2.64835883e+00 1.20007951e-15]\n",
      "[False False False]\n"
     ]
    }
   ],
   "source": [
    "#Find the eigenvectors and eigenvalues using SVD. Check that the two procedures yield to same result\n",
    "U, spectrum, Vt = la.svd(CovMat)\n",
    "print(spectrum)\n",
    "print(spectrum == l)"
   ]
  },
  {
   "cell_type": "markdown",
   "metadata": {},
   "source": [
    "2\\. **PCA on a nD dataset**\n",
    "\n",
    "Start from the dataset you have genereted in the previous exercise and add uncorrelated random noise. Such noise should be represented by other 10 uncorrelated variables normal distributed, with standar deviation much smaller (say, a factor 50) than those used to generate the $x_1$ and $x_2$.\n",
    "\n",
    "Repeat the PCA procedure and compare the results with what you obtained before"
   ]
  },
  {
   "cell_type": "markdown",
   "metadata": {},
   "source": [
    "3 \\. **Looking at an oscillating spring** (optional)\n",
    "\n",
    "Imagine you have $n$ cameras looking at a spring oscillating along the $x$ axis. Each  camera record the motion of the spring looking at it along a given direction defined by the pair $(\\theta_i, \\phi_i)$, the angles in spherical coordinates. \n",
    "\n",
    "Start from the simulation of the records (say ${\\cal O}(1000)$) of the spring's motion along the x axis, assuming a little random noise affects the measurements along the $y$. Rotate such dataset to emulate the records of each camera.\n",
    "\n",
    "Perform a Principal Component Analysis on the thus obtained dataset, aiming at finding the only one coordinate that really matters.\n"
   ]
  },
  {
   "cell_type": "markdown",
   "metadata": {},
   "source": [
    "4\\. **PCA on the MAGIC dataset** (optional)\n",
    "\n",
    "Perform a PCA on the magic04.data dataset"
   ]
  },
  {
   "cell_type": "code",
   "execution_count": null,
   "metadata": {},
   "outputs": [],
   "source": [
    "# get the dataset and its description on the proper data directory\n",
    "!wget https://archive.ics.uci.edu/ml/machine-learning-databases/magic/magic04.data -P ~/data/\n",
    "!wget https://archive.ics.uci.edu/ml/machine-learning-databases/magic/magic04.names -P ~/data/ "
   ]
  }
 ],
 "metadata": {
  "kernelspec": {
   "display_name": "Python 3 (ipykernel)",
   "language": "python",
   "name": "python3"
  },
  "language_info": {
   "codemirror_mode": {
    "name": "ipython",
    "version": 3
   },
   "file_extension": ".py",
   "mimetype": "text/x-python",
   "name": "python",
   "nbconvert_exporter": "python",
   "pygments_lexer": "ipython3",
   "version": "3.12.7"
  }
 },
 "nbformat": 4,
 "nbformat_minor": 4
}
